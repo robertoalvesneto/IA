{
  "cells": [
    {
      "cell_type": "markdown",
      "metadata": {
        "id": "Ipvxsged8X6Z"
      },
      "source": [
        "O objetivo desse dataset é determinar se os cogumelos pertencentes a essa familia são comestiveis ou venenosos a partir de suas caracteristicas.\n",
        "\n",
        "Esse dataset possui 23 especies diferentes pertencentes a mesma familia."
      ]
    },
    {
      "cell_type": "code",
      "execution_count": 2,
      "metadata": {
        "id": "aBACaDAxgQ3V"
      },
      "outputs": [],
      "source": [
        "import numpy as np # linear algebra\n",
        "import pandas as pd # data processing\n",
        "import seaborn as sns # data visualization: graphics\n",
        "import matplotlib.pyplot as plt # data visualization: graphics\n",
        "from sklearn.model_selection import train_test_split # split dataset into train/test\n",
        "from sklearn import preprocessing # pass nominal to number\n",
        "from sklearn.neighbors import KNeighborsClassifier # KNN\n",
        "from sklearn.model_selection import KFold # cross validation\n",
        "from sklearn import metrics # accuracy of model"
      ]
    },
    {
      "cell_type": "code",
      "execution_count": 3,
      "metadata": {
        "id": "V8jQIZxZgYVI"
      },
      "outputs": [],
      "source": [
        "# carregando dataset\n",
        "# disponivel em: https://www.kaggle.com/uciml/mushroom-classification\n",
        "mr = pd.read_csv(\"mushrooms.csv\")"
      ]
    },
    {
      "cell_type": "markdown",
      "metadata": {
        "id": "8BYvWvUWr2X0"
      },
      "source": [
        "# > ANALISANDO O DATASET"
      ]
    },
    {
      "cell_type": "code",
      "execution_count": 4,
      "metadata": {
        "id": "cipYDr5ZgkeG"
      },
      "outputs": [
        {
          "name": "stdout",
          "output_type": "stream",
          "text": [
            "<class 'pandas.core.frame.DataFrame'>\n",
            "RangeIndex: 8124 entries, 0 to 8123\n",
            "Data columns (total 23 columns):\n",
            " #   Column                    Non-Null Count  Dtype \n",
            "---  ------                    --------------  ----- \n",
            " 0   class                     8124 non-null   object\n",
            " 1   cap-shape                 8124 non-null   object\n",
            " 2   cap-surface               8124 non-null   object\n",
            " 3   cap-color                 8124 non-null   object\n",
            " 4   bruises                   8124 non-null   object\n",
            " 5   odor                      8124 non-null   object\n",
            " 6   gill-attachment           8124 non-null   object\n",
            " 7   gill-spacing              8124 non-null   object\n",
            " 8   gill-size                 8124 non-null   object\n",
            " 9   gill-color                8124 non-null   object\n",
            " 10  stalk-shape               8124 non-null   object\n",
            " 11  stalk-root                8124 non-null   object\n",
            " 12  stalk-surface-above-ring  8124 non-null   object\n",
            " 13  stalk-surface-below-ring  8124 non-null   object\n",
            " 14  stalk-color-above-ring    8124 non-null   object\n",
            " 15  stalk-color-below-ring    8124 non-null   object\n",
            " 16  veil-type                 8124 non-null   object\n",
            " 17  veil-color                8124 non-null   object\n",
            " 18  ring-number               8124 non-null   object\n",
            " 19  ring-type                 8124 non-null   object\n",
            " 20  spore-print-color         8124 non-null   object\n",
            " 21  population                8124 non-null   object\n",
            " 22  habitat                   8124 non-null   object\n",
            "dtypes: object(23)\n",
            "memory usage: 1.4+ MB\n"
          ]
        }
      ],
      "source": [
        "mr.info()"
      ]
    },
    {
      "cell_type": "code",
      "execution_count": 5,
      "metadata": {
        "colab": {
          "base_uri": "https://localhost:8080/",
          "height": 331
        },
        "id": "uOSedmWhkwAZ",
        "outputId": "44b44af8-94b3-48ee-f9a6-0d7aa2167e65"
      },
      "outputs": [
        {
          "name": "stdout",
          "output_type": "stream",
          "text": [
            "Tam total do dataset: 8124\n",
            "quantidade de cogumelos comestiveis: 4208\n",
            "quantidade de cogumelos venenosos: 3916\n"
          ]
        },
        {
          "data": {
            "image/png": "[encoded data removed]",
            "text/plain": [
              "<Figure size 432x288 with 1 Axes>"
            ]
          },
          "metadata": {
            "needs_background": "light"
          },
          "output_type": "display_data"
        }
      ],
      "source": [
        "# A primeira coluna representa a classe dos cogumelos.\n",
        "# 'p' indica que é venenoso, 'e' que é comestivel\n",
        "sns.countplot(x='class', data=mr)\n",
        "\n",
        "t = mr.shape[0]\n",
        "p = mr.loc[mr['class'] == 'p'].shape[0]\n",
        "e = mr.loc[mr['class'] == 'e'].shape[0]\n",
        "print(\"Tam total do dataset: {0}\".format(t))\n",
        "print(\"quantidade de cogumelos comestiveis: {0}\".format(e))\n",
        "print(\"quantidade de cogumelos venenosos: {0}\".format(p))"
      ]
    },
    {
      "cell_type": "markdown",
      "metadata": {
        "id": "rTAByUmFsKD5"
      },
      "source": [
        "## >> Analisando colunas sem valor"
      ]
    },
    {
      "cell_type": "code",
      "execution_count": 6,
      "metadata": {
        "colab": {
          "base_uri": "https://localhost:8080/"
        },
        "id": "uKehRD02lS-z",
        "outputId": "6e27e176-7678-43db-cbe7-a63cb263b57d"
      },
      "outputs": [
        {
          "name": "stdout",
          "output_type": "stream",
          "text": [
            "0\n",
            "0\n",
            "0\n",
            "0\n",
            "0\n",
            "0\n",
            "0\n",
            "0\n",
            "0\n",
            "0\n",
            "0\n",
            "2480\n",
            "0\n",
            "0\n",
            "0\n",
            "0\n",
            "0\n",
            "0\n",
            "0\n",
            "0\n",
            "0\n",
            "0\n",
            "0\n"
          ]
        }
      ],
      "source": [
        "# O caractere '?' marca valores nao inseridos.\n",
        "# Estou analisando as colunas que possuem valores desconhecidos.\n",
        "columns = list(mr.columns)\n",
        "for column in columns:\n",
        "  count = mr.loc[mr[column] == '?'].shape[0]\n",
        "  print(count)"
      ]
    },
    {
      "cell_type": "code",
      "execution_count": 7,
      "metadata": {
        "id": "-AD5v_OesV4g"
      },
      "outputs": [
        {
          "name": "stdout",
          "output_type": "stream",
          "text": [
            "Cogumelos comestiveis com dados faltando: 720\n",
            "Cogumelos venenosos com dados faltando: 1760\n",
            "\n",
            ">Impacto final na base de dados:\n",
            "  Cogumelos comestiveis apos remocao: 3488\n",
            "  Porcentagem em comparacao ao total: 82.89%\n",
            "\n",
            "  Cogumelos venenosos apos remocao: 2156\n",
            "  Porcentagem em comparacao ao total: 55.06%\n"
          ]
        }
      ],
      "source": [
        "# Somente a coluna 'stalk-root possui valores nao definidos.\n",
        "# Estou verificando o impacto dela no dataset.\n",
        "edible = mr.loc[mr['class'] == 'e'].shape[0]\n",
        "poisonous = mr.loc[mr['class'] == 'p'].shape[0]\n",
        "\n",
        "edible_empty_value = mr.loc[(mr['stalk-root'] == '?') & (mr['class'] == 'e')].shape[0]\n",
        "poisonous_empty_value = mr.loc[(mr['stalk-root'] == '?') & (mr['class'] == 'p')].shape[0]\n",
        "\n",
        "print(\"Cogumelos comestiveis com dados faltando: {0}\".format(edible_empty_value))\n",
        "print(\"Cogumelos venenosos com dados faltando: {0}\".format(poisonous_empty_value))\n",
        "\n",
        "print(\"\\n>Impacto final na base de dados:\")\n",
        "value = edible - edible_empty_value\n",
        "percent = '{0:.2f}'.format(((value/edible)*100))\n",
        "print(\"  Cogumelos comestiveis apos remocao: {0}\".format(value))\n",
        "print(\"  Porcentagem em comparacao ao total: {0}%\".format(percent))\n",
        "\n",
        "value = poisonous - poisonous_empty_value\n",
        "percent = '{0:.2f}'.format(((value/poisonous)*100))\n",
        "print(\"\\n  Cogumelos venenosos apos remocao: {0}\".format(value))\n",
        "print(\"  Porcentagem em comparacao ao total: {0}%\".format(percent))"
      ]
    },
    {
      "cell_type": "markdown",
      "metadata": {
        "id": "Zot3Q36QzSPQ"
      },
      "source": [
        "Existem três possibilidades validas:\n",
        "\n",
        "\n",
        "*   Trabalhar com a base de dados mesmo tendo dados faltando\n",
        "*   Preencher com a mediana\n",
        "*   Apagar os registros que possuem dados faltando\n",
        "*   Apagar os atributos que possuem dados faltando\n",
        "\n",
        "Como possuimos muitos dados, podemos nos dar ao luxo de apagar alguns, então não\n",
        "vou seguir o primeiro caminho;\n",
        "\n",
        "Como os 2480 valores concetram-se em uma coluna, isso equivale a quase 1/3 do\n",
        "dataset, preencher com a mediana seria danoso;\n",
        "\n",
        "Como mostrado no exemplo a cima, a classe mais prejudicada se apagarmos os\n",
        "registros é a das venenosas, e ela natualmente já possui menos registros que\n",
        "a classe comestivel, então também não vou seguir esse caminho;\n",
        "\n",
        "Como possuimos 22 atributos e todos 2480 dados não inseridos concentram-se no\n",
        "'stalk-root', vou optar por apagar essa coluna.\n",
        "\n"
      ]
    },
    {
      "cell_type": "markdown",
      "metadata": {
        "id": "8l0rYBWh0Znc"
      },
      "source": [
        "# Limpando o dataset"
      ]
    },
    {
      "cell_type": "code",
      "execution_count": 8,
      "metadata": {
        "id": "D8j76zpV0dmL"
      },
      "outputs": [],
      "source": [
        "import random\n",
        "\n",
        "all_e = 4208\n",
        "all_p = 3916\n",
        "dif = all_e - all_p\n",
        "\n",
        "mr.drop(['stalk-root'], axis=1, inplace=True) # drop column 'stalk-root'\n",
        "\n",
        "all_e_index = mr.index[mr['class'] == 'e'].tolist()\n",
        "random_indexs =random.sample(all_e_index, dif)\n",
        "mr.drop(random_indexs, axis=0, inplace=True) # drop 292 edible rows"
      ]
    },
    {
      "cell_type": "code",
      "execution_count": 9,
      "metadata": {
        "colab": {
          "base_uri": "https://localhost:8080/",
          "height": 330
        },
        "id": "yJQs7zMw7jTy",
        "outputId": "c594cebe-5a28-43e6-af31-da04b7615943"
      },
      "outputs": [
        {
          "name": "stdout",
          "output_type": "stream",
          "text": [
            "Tam total do dataset: 7832\n",
            "quantidade de cogumelos comestiveis: 3916\n",
            "quantidade de cogumelos venenosos: 3916\n"
          ]
        },
        {
          "data": {
            "image/png": "[encoded data removed]",
            "text/plain": [
              "<Figure size 432x288 with 1 Axes>"
            ]
          },
          "metadata": {
            "needs_background": "light"
          },
          "output_type": "display_data"
        }
      ],
      "source": [
        "# Verificando os dados limpos\n",
        "sns.countplot(x='class', data=mr)\n",
        "\n",
        "t = mr.shape[0]\n",
        "p = mr.loc[mr['class'] == 'p'].shape[0]\n",
        "e = mr.loc[mr['class'] == 'e'].shape[0]\n",
        "print(\"Tam total do dataset: {0}\".format(t))\n",
        "print(\"quantidade de cogumelos comestiveis: {0}\".format(e))\n",
        "print(\"quantidade de cogumelos venenosos: {0}\".format(p))"
      ]
    },
    {
      "cell_type": "markdown",
      "metadata": {
        "id": "GKzybugSA8R2"
      },
      "source": [
        "# Tranformando dados nominais em dados numéricos"
      ]
    },
    {
      "cell_type": "code",
      "execution_count": 10,
      "metadata": {
        "id": "icR0CQAwC9Dh"
      },
      "outputs": [],
      "source": [
        "# Convertendo os dados nominais em dados numericos\n",
        "le = preprocessing.LabelEncoder()\n",
        "\n",
        "mr_encode = pd.DataFrame()\n",
        "\n",
        "for column in mr:\n",
        "  column_values_encode = le.fit_transform(mr[column])\n",
        "  mr_encode[column] = column_values_encode"
      ]
    },
    {
      "cell_type": "code",
      "execution_count": 11,
      "metadata": {
        "id": "OAfWubgyKfCx"
      },
      "outputs": [
        {
          "data": {
            "text/html": [
              "<div>\n",
              "<style scoped>\n",
              "    .dataframe tbody tr th:only-of-type {\n",
              "        vertical-align: middle;\n",
              "    }\n",
              "\n",
              "    .dataframe tbody tr th {\n",
              "        vertical-align: top;\n",
              "    }\n",
              "\n",
              "    .dataframe thead th {\n",
              "        text-align: right;\n",
              "    }\n",
              "</style>\n",
              "<table border=\"1\" class=\"dataframe\">\n",
              "  <thead>\n",
              "    <tr style=\"text-align: right;\">\n",
              "      <th></th>\n",
              "      <th>class</th>\n",
              "      <th>cap-shape</th>\n",
              "      <th>cap-surface</th>\n",
              "      <th>cap-color</th>\n",
              "      <th>bruises</th>\n",
              "      <th>odor</th>\n",
              "      <th>gill-attachment</th>\n",
              "      <th>gill-spacing</th>\n",
              "      <th>gill-size</th>\n",
              "      <th>gill-color</th>\n",
              "      <th>...</th>\n",
              "      <th>stalk-surface-below-ring</th>\n",
              "      <th>stalk-color-above-ring</th>\n",
              "      <th>stalk-color-below-ring</th>\n",
              "      <th>veil-type</th>\n",
              "      <th>veil-color</th>\n",
              "      <th>ring-number</th>\n",
              "      <th>ring-type</th>\n",
              "      <th>spore-print-color</th>\n",
              "      <th>population</th>\n",
              "      <th>habitat</th>\n",
              "    </tr>\n",
              "  </thead>\n",
              "  <tbody>\n",
              "    <tr>\n",
              "      <th>0</th>\n",
              "      <td>1</td>\n",
              "      <td>5</td>\n",
              "      <td>2</td>\n",
              "      <td>4</td>\n",
              "      <td>1</td>\n",
              "      <td>6</td>\n",
              "      <td>1</td>\n",
              "      <td>0</td>\n",
              "      <td>1</td>\n",
              "      <td>4</td>\n",
              "      <td>...</td>\n",
              "      <td>2</td>\n",
              "      <td>7</td>\n",
              "      <td>7</td>\n",
              "      <td>0</td>\n",
              "      <td>2</td>\n",
              "      <td>1</td>\n",
              "      <td>4</td>\n",
              "      <td>2</td>\n",
              "      <td>3</td>\n",
              "      <td>5</td>\n",
              "    </tr>\n",
              "    <tr>\n",
              "      <th>1</th>\n",
              "      <td>0</td>\n",
              "      <td>5</td>\n",
              "      <td>2</td>\n",
              "      <td>9</td>\n",
              "      <td>1</td>\n",
              "      <td>0</td>\n",
              "      <td>1</td>\n",
              "      <td>0</td>\n",
              "      <td>0</td>\n",
              "      <td>4</td>\n",
              "      <td>...</td>\n",
              "      <td>2</td>\n",
              "      <td>7</td>\n",
              "      <td>7</td>\n",
              "      <td>0</td>\n",
              "      <td>2</td>\n",
              "      <td>1</td>\n",
              "      <td>4</td>\n",
              "      <td>3</td>\n",
              "      <td>2</td>\n",
              "      <td>1</td>\n",
              "    </tr>\n",
              "    <tr>\n",
              "      <th>2</th>\n",
              "      <td>0</td>\n",
              "      <td>0</td>\n",
              "      <td>2</td>\n",
              "      <td>8</td>\n",
              "      <td>1</td>\n",
              "      <td>3</td>\n",
              "      <td>1</td>\n",
              "      <td>0</td>\n",
              "      <td>0</td>\n",
              "      <td>5</td>\n",
              "      <td>...</td>\n",
              "      <td>2</td>\n",
              "      <td>7</td>\n",
              "      <td>7</td>\n",
              "      <td>0</td>\n",
              "      <td>2</td>\n",
              "      <td>1</td>\n",
              "      <td>4</td>\n",
              "      <td>3</td>\n",
              "      <td>2</td>\n",
              "      <td>3</td>\n",
              "    </tr>\n",
              "    <tr>\n",
              "      <th>3</th>\n",
              "      <td>1</td>\n",
              "      <td>5</td>\n",
              "      <td>3</td>\n",
              "      <td>8</td>\n",
              "      <td>1</td>\n",
              "      <td>6</td>\n",
              "      <td>1</td>\n",
              "      <td>0</td>\n",
              "      <td>1</td>\n",
              "      <td>5</td>\n",
              "      <td>...</td>\n",
              "      <td>2</td>\n",
              "      <td>7</td>\n",
              "      <td>7</td>\n",
              "      <td>0</td>\n",
              "      <td>2</td>\n",
              "      <td>1</td>\n",
              "      <td>4</td>\n",
              "      <td>2</td>\n",
              "      <td>3</td>\n",
              "      <td>5</td>\n",
              "    </tr>\n",
              "    <tr>\n",
              "      <th>4</th>\n",
              "      <td>0</td>\n",
              "      <td>5</td>\n",
              "      <td>2</td>\n",
              "      <td>3</td>\n",
              "      <td>0</td>\n",
              "      <td>5</td>\n",
              "      <td>1</td>\n",
              "      <td>1</td>\n",
              "      <td>0</td>\n",
              "      <td>4</td>\n",
              "      <td>...</td>\n",
              "      <td>2</td>\n",
              "      <td>7</td>\n",
              "      <td>7</td>\n",
              "      <td>0</td>\n",
              "      <td>2</td>\n",
              "      <td>1</td>\n",
              "      <td>0</td>\n",
              "      <td>3</td>\n",
              "      <td>0</td>\n",
              "      <td>1</td>\n",
              "    </tr>\n",
              "    <tr>\n",
              "      <th>5</th>\n",
              "      <td>0</td>\n",
              "      <td>5</td>\n",
              "      <td>3</td>\n",
              "      <td>9</td>\n",
              "      <td>1</td>\n",
              "      <td>0</td>\n",
              "      <td>1</td>\n",
              "      <td>0</td>\n",
              "      <td>0</td>\n",
              "      <td>5</td>\n",
              "      <td>...</td>\n",
              "      <td>2</td>\n",
              "      <td>7</td>\n",
              "      <td>7</td>\n",
              "      <td>0</td>\n",
              "      <td>2</td>\n",
              "      <td>1</td>\n",
              "      <td>4</td>\n",
              "      <td>2</td>\n",
              "      <td>2</td>\n",
              "      <td>1</td>\n",
              "    </tr>\n",
              "    <tr>\n",
              "      <th>6</th>\n",
              "      <td>0</td>\n",
              "      <td>0</td>\n",
              "      <td>2</td>\n",
              "      <td>8</td>\n",
              "      <td>1</td>\n",
              "      <td>0</td>\n",
              "      <td>1</td>\n",
              "      <td>0</td>\n",
              "      <td>0</td>\n",
              "      <td>2</td>\n",
              "      <td>...</td>\n",
              "      <td>2</td>\n",
              "      <td>7</td>\n",
              "      <td>7</td>\n",
              "      <td>0</td>\n",
              "      <td>2</td>\n",
              "      <td>1</td>\n",
              "      <td>4</td>\n",
              "      <td>2</td>\n",
              "      <td>2</td>\n",
              "      <td>3</td>\n",
              "    </tr>\n",
              "    <tr>\n",
              "      <th>7</th>\n",
              "      <td>0</td>\n",
              "      <td>0</td>\n",
              "      <td>3</td>\n",
              "      <td>8</td>\n",
              "      <td>1</td>\n",
              "      <td>3</td>\n",
              "      <td>1</td>\n",
              "      <td>0</td>\n",
              "      <td>0</td>\n",
              "      <td>5</td>\n",
              "      <td>...</td>\n",
              "      <td>2</td>\n",
              "      <td>7</td>\n",
              "      <td>7</td>\n",
              "      <td>0</td>\n",
              "      <td>2</td>\n",
              "      <td>1</td>\n",
              "      <td>4</td>\n",
              "      <td>3</td>\n",
              "      <td>3</td>\n",
              "      <td>3</td>\n",
              "    </tr>\n",
              "    <tr>\n",
              "      <th>8</th>\n",
              "      <td>1</td>\n",
              "      <td>5</td>\n",
              "      <td>3</td>\n",
              "      <td>8</td>\n",
              "      <td>1</td>\n",
              "      <td>6</td>\n",
              "      <td>1</td>\n",
              "      <td>0</td>\n",
              "      <td>1</td>\n",
              "      <td>7</td>\n",
              "      <td>...</td>\n",
              "      <td>2</td>\n",
              "      <td>7</td>\n",
              "      <td>7</td>\n",
              "      <td>0</td>\n",
              "      <td>2</td>\n",
              "      <td>1</td>\n",
              "      <td>4</td>\n",
              "      <td>2</td>\n",
              "      <td>4</td>\n",
              "      <td>1</td>\n",
              "    </tr>\n",
              "    <tr>\n",
              "      <th>9</th>\n",
              "      <td>0</td>\n",
              "      <td>0</td>\n",
              "      <td>2</td>\n",
              "      <td>9</td>\n",
              "      <td>1</td>\n",
              "      <td>0</td>\n",
              "      <td>1</td>\n",
              "      <td>0</td>\n",
              "      <td>0</td>\n",
              "      <td>2</td>\n",
              "      <td>...</td>\n",
              "      <td>2</td>\n",
              "      <td>7</td>\n",
              "      <td>7</td>\n",
              "      <td>0</td>\n",
              "      <td>2</td>\n",
              "      <td>1</td>\n",
              "      <td>4</td>\n",
              "      <td>2</td>\n",
              "      <td>3</td>\n",
              "      <td>3</td>\n",
              "    </tr>\n",
              "  </tbody>\n",
              "</table>\n",
              "<p>10 rows × 22 columns</p>\n",
              "</div>"
            ],
            "text/plain": [
              "   class  cap-shape  cap-surface  cap-color  bruises  odor  gill-attachment  \\\n",
              "0      1          5            2          4        1     6                1   \n",
              "1      0          5            2          9        1     0                1   \n",
              "2      0          0            2          8        1     3                1   \n",
              "3      1          5            3          8        1     6                1   \n",
              "4      0          5            2          3        0     5                1   \n",
              "5      0          5            3          9        1     0                1   \n",
              "6      0          0            2          8        1     0                1   \n",
              "7      0          0            3          8        1     3                1   \n",
              "8      1          5            3          8        1     6                1   \n",
              "9      0          0            2          9        1     0                1   \n",
              "\n",
              "   gill-spacing  gill-size  gill-color  ...  stalk-surface-below-ring  \\\n",
              "0             0          1           4  ...                         2   \n",
              "1             0          0           4  ...                         2   \n",
              "2             0          0           5  ...                         2   \n",
              "3             0          1           5  ...                         2   \n",
              "4             1          0           4  ...                         2   \n",
              "5             0          0           5  ...                         2   \n",
              "6             0          0           2  ...                         2   \n",
              "7             0          0           5  ...                         2   \n",
              "8             0          1           7  ...                         2   \n",
              "9             0          0           2  ...                         2   \n",
              "\n",
              "   stalk-color-above-ring  stalk-color-below-ring  veil-type  veil-color  \\\n",
              "0                       7                       7          0           2   \n",
              "1                       7                       7          0           2   \n",
              "2                       7                       7          0           2   \n",
              "3                       7                       7          0           2   \n",
              "4                       7                       7          0           2   \n",
              "5                       7                       7          0           2   \n",
              "6                       7                       7          0           2   \n",
              "7                       7                       7          0           2   \n",
              "8                       7                       7          0           2   \n",
              "9                       7                       7          0           2   \n",
              "\n",
              "   ring-number  ring-type  spore-print-color  population  habitat  \n",
              "0            1          4                  2           3        5  \n",
              "1            1          4                  3           2        1  \n",
              "2            1          4                  3           2        3  \n",
              "3            1          4                  2           3        5  \n",
              "4            1          0                  3           0        1  \n",
              "5            1          4                  2           2        1  \n",
              "6            1          4                  2           2        3  \n",
              "7            1          4                  3           3        3  \n",
              "8            1          4                  2           4        1  \n",
              "9            1          4                  2           3        3  \n",
              "\n",
              "[10 rows x 22 columns]"
            ]
          },
          "execution_count": 11,
          "metadata": {},
          "output_type": "execute_result"
        }
      ],
      "source": [
        "# Vizualizacao do resultado\n",
        "mr_encode.head(10)"
      ]
    },
    {
      "cell_type": "markdown",
      "metadata": {
        "id": "m0byxjgBLFxC"
      },
      "source": [
        "# KNN"
      ]
    },
    {
      "cell_type": "code",
      "execution_count": 17,
      "metadata": {
        "id": "1lG_OLd0LIRn"
      },
      "outputs": [
        {
          "name": "stdout",
          "output_type": "stream",
          "text": [
            "(5482, 22)\n",
            "(2350, 22)\n"
          ]
        }
      ],
      "source": [
        "# Dividindo dataset em treino(70%) e teste(30%)\n",
        "train, test = train_test_split(mr_encode, test_size = 0.3)\n",
        "print(train.shape)\n",
        "print(test.shape)"
      ]
    },
    {
      "cell_type": "code",
      "execution_count": 18,
      "metadata": {
        "id": "Dv56knPcLVs9"
      },
      "outputs": [],
      "source": [
        "# Separando as classes(Y) dos atributos(X)\n",
        "# Lembrando que a primeira coluna eh a classe\n",
        "train_x = train[list(mr_encode.columns.values)[1:]]\n",
        "train_y = train[list(mr_encode.columns.values)[0]]\n",
        "test_x = test[list(mr_encode.columns.values)[1:]]\n",
        "test_y = test[list(mr_encode.columns.values)[0]]"
      ]
    },
    {
      "cell_type": "code",
      "execution_count": 19,
      "metadata": {
        "id": "GrFdD6laMdr3"
      },
      "outputs": [
        {
          "name": "stdout",
          "output_type": "stream",
          "text": [
            "[1.0, 0.9991489361702127, 0.9987234042553191, 0.9991489361702127, 0.9982978723404256, 0.9965957446808511, 0.9953191489361702, 0.9953191489361702, 0.9953191489361702, 0.9906382978723405, 0.9902127659574468, 0.9885106382978723, 0.9885106382978723, 0.9872340425531915, 0.9880851063829788, 0.9868085106382979, 0.987659574468085, 0.9863829787234043, 0.9859574468085106, 0.9825531914893617, 0.9829787234042553]\n"
          ]
        },
        {
          "data": {
            "image/png": "[encoded data removed]",
            "text/plain": [
              "<Figure size 432x288 with 1 Axes>"
            ]
          },
          "metadata": {
            "needs_background": "light"
          },
          "output_type": "display_data"
        }
      ],
      "source": [
        "# Testando o melhor valor para K-value\n",
        "k_range = range(1,22)\n",
        "scores = []\n",
        "\n",
        "for k in k_range:\n",
        "  knn = KNeighborsClassifier(n_neighbors=k)\n",
        "  knn.fit(train_x, train_y)\n",
        "  y_pred = knn.predict(test_x)\n",
        "  scores.append(metrics.accuracy_score(test_y, y_pred))\n",
        "\n",
        "print(scores)\n",
        "plt.plot(list(k_range), scores)\n",
        "plt.xlabel('Value of k')\n",
        "plt.ylabel('Accuracy Score')\n",
        "plt.title('Accuracy Scores for different values of k')\n",
        "plt.show()"
      ]
    },
    {
      "cell_type": "markdown",
      "metadata": {
        "id": "FYHfxJ6c7MIq"
      },
      "source": [
        "A precisão fica em torno de 100% e 98%, depende muito do sorteio da base de treinamento\n"
      ]
    },
    {
      "cell_type": "code",
      "execution_count": 20,
      "metadata": {
        "colab": {
          "base_uri": "https://localhost:8080/"
        },
        "id": "YcLsWaDDN7aO",
        "outputId": "50e9f57f-04dd-41ef-92de-6fbdf32e8633"
      },
      "outputs": [
        {
          "name": "stdout",
          "output_type": "stream",
          "text": [
            "1.0\n",
            "1\n"
          ]
        }
      ],
      "source": [
        "# Pegando o maior score para usar seu K-value\n",
        "max_score = -1\n",
        "k_max_score = -1\n",
        "for k in k_range:\n",
        "  if scores[k-1] > max_score:\n",
        "    max_score = scores[k-1]\n",
        "    k_max_score = k\n",
        "  \n",
        "print(max_score)\n",
        "print(k_max_score)"
      ]
    },
    {
      "cell_type": "code",
      "execution_count": 21,
      "metadata": {
        "colab": {
          "base_uri": "https://localhost:8080/"
        },
        "id": "XjfMThWoMuyS",
        "outputId": "7097292b-c7da-4fac-bc35-578212734bac"
      },
      "outputs": [
        {
          "name": "stdout",
          "output_type": "stream",
          "text": [
            "A acurácia do KNN é 100.00%\n"
          ]
        }
      ],
      "source": [
        "knn = KNeighborsClassifier(n_neighbors=k_max_score)\n",
        "knn.fit(train_x, train_y)\n",
        "y_pred = knn.predict(test_x)\n",
        "precision = metrics.accuracy_score(test_y, y_pred)*100\n",
        "print('A acurácia do KNN é {0:.2f}%'.format(precision))\n"
      ]
    }
  ],
  "metadata": {
    "colab": {
      "collapsed_sections": [],
      "name": "cogumelos.ipynb",
      "provenance": []
    },
    "interpreter": {
      "hash": "916dbcbb3f70747c44a77c7bcd40155683ae19c65e1c03b4aa3499c5328201f1"
    },
    "kernelspec": {
      "display_name": "Python 3.8.10 64-bit",
      "name": "python3"
    },
    "language_info": {
      "codemirror_mode": {
        "name": "ipython",
        "version": 3
      },
      "file_extension": ".py",
      "mimetype": "text/x-python",
      "name": "python",
      "nbconvert_exporter": "python",
      "pygments_lexer": "ipython3",
      "version": "3.8.10"
    }
  },
  "nbformat": 4,
  "nbformat_minor": 0
}